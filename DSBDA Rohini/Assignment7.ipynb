{
 "cells": [
  {
   "cell_type": "code",
   "execution_count": 43,
   "id": "de3531ab-f3c6-4c0d-ac3c-02d08bc3bbe0",
   "metadata": {},
   "outputs": [],
   "source": [
    "import numpy as np\n",
    "import pandas as pd\n",
    "import nltk\n",
    "import string\n",
    "from nltk.tokenize import word_tokenize, sent_tokenize\n",
    "from nltk.corpus import stopwords\n",
    "from nltk.stem import PorterStemmer, WordNetLemmatizer\n",
    "from nltk import pos_tag\n",
    "from sklearn.feature_extraction.text import TfidfVectorizer"
   ]
  },
  {
   "cell_type": "code",
   "execution_count": 63,
   "id": "f1309a75-7e08-4662-8938-e9e0d6629794",
   "metadata": {},
   "outputs": [
    {
     "name": "stderr",
     "output_type": "stream",
     "text": [
      "[nltk_data] Downloading package stopwords to\n",
      "[nltk_data]     C:\\Users\\Rohini\\AppData\\Roaming\\nltk_data...\n",
      "[nltk_data]   Package stopwords is already up-to-date!\n",
      "[nltk_data] Downloading package averaged_perceptron_tagger to\n",
      "[nltk_data]     C:\\Users\\Rohini\\AppData\\Roaming\\nltk_data...\n",
      "[nltk_data]   Package averaged_perceptron_tagger is already up-to-\n",
      "[nltk_data]       date!\n",
      "[nltk_data] Downloading package punkt to\n",
      "[nltk_data]     C:\\Users\\Rohini\\AppData\\Roaming\\nltk_data...\n",
      "[nltk_data]   Package punkt is already up-to-date!\n",
      "[nltk_data] Downloading package punkt_tab to\n",
      "[nltk_data]     C:\\Users\\Rohini\\AppData\\Roaming\\nltk_data...\n",
      "[nltk_data]   Package punkt_tab is already up-to-date!\n",
      "[nltk_data] Downloading package averaged_perceptron_tagger_eng to\n",
      "[nltk_data]     C:\\Users\\Rohini\\AppData\\Roaming\\nltk_data...\n",
      "[nltk_data]   Package averaged_perceptron_tagger_eng is already up-to-\n",
      "[nltk_data]       date!\n",
      "[nltk_data] Downloading package wordnet to\n",
      "[nltk_data]     C:\\Users\\Rohini\\AppData\\Roaming\\nltk_data...\n"
     ]
    },
    {
     "data": {
      "text/plain": [
       "True"
      ]
     },
     "execution_count": 63,
     "metadata": {},
     "output_type": "execute_result"
    }
   ],
   "source": [
    "nltk.download('stopwords')\n",
    "nltk.download('averaged_perceptron_tagger')\n",
    "nltk.download('punkt') \n",
    "nltk.download('punkt_tab')\n",
    "nltk.download('averaged_perceptron_tagger_eng')\n",
    "nltk.download('wordnet')"
   ]
  },
  {
   "cell_type": "code",
   "execution_count": 64,
   "id": "df44222b-4d02-494f-9a4f-b4b6a1d59ca0",
   "metadata": {},
   "outputs": [],
   "source": [
    "text = \"\"\"Hello this side Rohini Gaikwad. I'm Third Year student at the PDEA's College of Enggineering Pune.\"\"\""
   ]
  },
  {
   "cell_type": "code",
   "execution_count": 65,
   "id": "4bb574d2-66b9-4295-9faf-555b12df4b31",
   "metadata": {},
   "outputs": [
    {
     "name": "stdout",
     "output_type": "stream",
     "text": [
      "Sentence:  ['Hello this side Rohini Gaikwad.', \"I'm Third Year student at the PDEA's College of Enggineering Pune.\"]\n"
     ]
    }
   ],
   "source": [
    "sentence = sent_tokenize(text)\n",
    "print(\"Sentence: \", sentence)"
   ]
  },
  {
   "cell_type": "code",
   "execution_count": 66,
   "id": "ff2f3dda-d131-4218-9613-d64d849fdc6f",
   "metadata": {},
   "outputs": [
    {
     "name": "stdout",
     "output_type": "stream",
     "text": [
      "Word:  ['Hello', 'this', 'side', 'Rohini', 'Gaikwad', '.', 'I', \"'m\", 'Third', 'Year', 'student', 'at', 'the', 'PDEA', \"'s\", 'College', 'of', 'Enggineering', 'Pune', '.']\n"
     ]
    }
   ],
   "source": [
    "words = word_tokenize(text)\n",
    "print(\"Word: \", words)"
   ]
  },
  {
   "cell_type": "code",
   "execution_count": 67,
   "id": "3397ab65-4565-4d9a-9983-626eb56dbdb9",
   "metadata": {},
   "outputs": [
    {
     "name": "stdout",
     "output_type": "stream",
     "text": [
      "Pos Tags:  [('Hello', 'NNP'), ('this', 'DT'), ('side', 'NN'), ('Rohini', 'NNP'), ('Gaikwad', 'NNP'), ('.', '.'), ('I', 'PRP'), (\"'m\", 'VBP'), ('Third', 'JJ'), ('Year', 'JJ'), ('student', 'NN'), ('at', 'IN'), ('the', 'DT'), ('PDEA', 'NNP'), (\"'s\", 'POS'), ('College', 'NNP'), ('of', 'IN'), ('Enggineering', 'NNP'), ('Pune', 'NNP'), ('.', '.')]\n"
     ]
    }
   ],
   "source": [
    "pos_tags = pos_tag(words)\n",
    "print(\"Pos Tags: \", pos_tags)"
   ]
  },
  {
   "cell_type": "code",
   "execution_count": 68,
   "id": "034d4ec2-6c63-4bcf-b794-645846ec555a",
   "metadata": {},
   "outputs": [
    {
     "name": "stdout",
     "output_type": "stream",
     "text": [
      "Tokens after Stopwords Removal: ['Hello', 'side', 'Rohini', 'Gaikwad', \"'m\", 'Third', 'Year', 'student', 'PDEA', \"'s\", 'College', 'Enggineering', 'Pune']\n"
     ]
    }
   ],
   "source": [
    "stop_words = set(stopwords.words('english'))\n",
    "filtered_tokens = [word for word in words if word.lower() not in stop_words and word not in string.punctuation]\n",
    "print(\"Tokens after Stopwords Removal:\", filtered_tokens)"
   ]
  },
  {
   "cell_type": "code",
   "execution_count": 69,
   "id": "2946eacb-b50b-49fc-8da1-0478426eb6c3",
   "metadata": {},
   "outputs": [
    {
     "name": "stdout",
     "output_type": "stream",
     "text": [
      "Stemmed Words: ['hello', 'side', 'rohini', 'gaikwad', \"'m\", 'third', 'year', 'student', 'pdea', \"'s\", 'colleg', 'enggin', 'pune']\n"
     ]
    }
   ],
   "source": [
    "stemmer = PorterStemmer()\n",
    "stemmed_words = [stemmer.stem(word) for word in filtered_tokens]\n",
    "print(\"Stemmed Words:\", stemmed_words)\n"
   ]
  },
  {
   "cell_type": "code",
   "execution_count": 71,
   "id": "af96b2cb-dd13-422b-9982-071352d71c13",
   "metadata": {},
   "outputs": [
    {
     "name": "stdout",
     "output_type": "stream",
     "text": [
      "Lemmatized Words: ['Hello', 'side', 'Rohini', 'Gaikwad', \"'m\", 'Third', 'Year', 'student', 'PDEA', \"'s\", 'College', 'Enggineering', 'Pune']\n"
     ]
    }
   ],
   "source": [
    "lemmatizer = WordNetLemmatizer()\n",
    "lemmatized_words = [lemmatizer.lemmatize(word) for word in filtered_tokens]\n",
    "print(\"Lemmatized Words:\", lemmatized_words)\n"
   ]
  },
  {
   "cell_type": "code",
   "execution_count": 72,
   "id": "3176d109-0074-4bbb-a92c-f84265edcace",
   "metadata": {},
   "outputs": [
    {
     "name": "stdout",
     "output_type": "stream",
     "text": [
      "\n",
      "TF-IDF Matrix:\n",
      "         at   college  enggineering   gaikwad     hello        of      pdea  \\\n",
      "0  0.258199  0.258199      0.258199  0.258199  0.258199  0.258199  0.258199   \n",
      "\n",
      "       pune    rohini      side   student       the     third      this  \\\n",
      "0  0.258199  0.258199  0.258199  0.258199  0.258199  0.258199  0.258199   \n",
      "\n",
      "       year  \n",
      "0  0.258199  \n"
     ]
    }
   ],
   "source": [
    "vectorizer = TfidfVectorizer()\n",
    "new_sentence=[' '.join(sentence)]\n",
    "tfidf_matrix = vectorizer.fit_transform(new_sentence)\n",
    "df_tfidf = pd.DataFrame(tfidf_matrix.toarray(), columns=vectorizer.get_feature_names_out())\n",
    "print(\"\\nTF-IDF Matrix:\")\n",
    "print(df_tfidf)"
   ]
  },
  {
   "cell_type": "code",
   "execution_count": null,
   "id": "2ec6000a-d450-4827-a472-607357d5063d",
   "metadata": {},
   "outputs": [],
   "source": []
  }
 ],
 "metadata": {
  "kernelspec": {
   "display_name": "Python 3 (ipykernel)",
   "language": "python",
   "name": "python3"
  },
  "language_info": {
   "codemirror_mode": {
    "name": "ipython",
    "version": 3
   },
   "file_extension": ".py",
   "mimetype": "text/x-python",
   "name": "python",
   "nbconvert_exporter": "python",
   "pygments_lexer": "ipython3",
   "version": "3.12.7"
  }
 },
 "nbformat": 4,
 "nbformat_minor": 5
}
