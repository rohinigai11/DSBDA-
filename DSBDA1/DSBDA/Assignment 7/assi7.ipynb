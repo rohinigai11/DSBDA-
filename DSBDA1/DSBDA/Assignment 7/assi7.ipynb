{
 "cells": [
  {
   "cell_type": "code",
   "execution_count": null,
   "metadata": {},
   "outputs": [],
   "source": [
    "# Text Analytics\n",
    "    # 1. Extract Sample document and apply following document preprocessing methods:\n",
    "    # Tokenization, POS Tagging, stop words removal, Stemming and Lemmatization.\n",
    "    # 2. Create representation of document by calculating Term Frequency and Inverse Document\n",
    "    # Frequency."
   ]
  },
  {
   "cell_type": "code",
   "execution_count": null,
   "metadata": {},
   "outputs": [],
   "source": [
    "import numpy as np\n",
    "import pandas as pd\n",
    "import nltk\n",
    "import string\n",
    "from nltk.tokenize import word_tokenize,sent_tokenize\n",
    "from nltk.corpus import stopwords\n",
    "from nltk.stem import PorterStemmer, WordNetLemmatizer\n",
    "from nltk import pos_tag\n",
    "from sklearn.feature_extraction.text import TfidfVectorizer"
   ]
  },
  {
   "cell_type": "code",
   "execution_count": 14,
   "metadata": {},
   "outputs": [
    {
     "name": "stderr",
     "output_type": "stream",
     "text": [
      "[nltk_data] Downloading package stopwords to\n",
      "[nltk_data]     C:\\Users\\nkolh\\AppData\\Roaming\\nltk_data...\n",
      "[nltk_data]   Package stopwords is already up-to-date!\n",
      "[nltk_data] Downloading package averaged_perceptron_tagger to\n",
      "[nltk_data]     C:\\Users\\nkolh\\AppData\\Roaming\\nltk_data...\n",
      "[nltk_data]   Unzipping taggers\\averaged_perceptron_tagger.zip.\n"
     ]
    },
    {
     "data": {
      "text/plain": [
       "True"
      ]
     },
     "execution_count": 14,
     "metadata": {},
     "output_type": "execute_result"
    }
   ],
   "source": [
    "nltk.download('stopwords')\n",
    "nltk.download('averaged_perceptron_tagger')"
   ]
  },
  {
   "cell_type": "code",
   "execution_count": 6,
   "metadata": {},
   "outputs": [],
   "source": [
    "text = \"\"\"Text analytics is the process of deriving useful insights from text data. \n",
    "It involves techniques like Tokenization, POS Tagging, Stop Words Removal, Stemming, and Lemmatization.\"\"\""
   ]
  },
  {
   "cell_type": "code",
   "execution_count": 24,
   "metadata": {},
   "outputs": [
    {
     "name": "stdout",
     "output_type": "stream",
     "text": [
      "Tokenized sentence: ['Text analytics is the process of deriving useful insights from text data.', 'It involves techniques like Tokenization, POS Tagging, Stop Words Removal, Stemming, and Lemmatization.']\n"
     ]
    }
   ],
   "source": [
    "sentence = sent_tokenize(text)\n",
    "print(\"Tokenized sentence:\", sentence)"
   ]
  },
  {
   "cell_type": "code",
   "execution_count": 25,
   "metadata": {},
   "outputs": [
    {
     "name": "stdout",
     "output_type": "stream",
     "text": [
      "Tokenized Words: ['Text', 'analytics', 'is', 'the', 'process', 'of', 'deriving', 'useful', 'insights', 'from', 'text', 'data', '.', 'It', 'involves', 'techniques', 'like', 'Tokenization', ',', 'POS', 'Tagging', ',', 'Stop', 'Words', 'Removal', ',', 'Stemming', ',', 'and', 'Lemmatization', '.']\n"
     ]
    }
   ],
   "source": [
    "words = word_tokenize(text)\n",
    "print(\"Tokenized Words:\", words)\n"
   ]
  },
  {
   "cell_type": "code",
   "execution_count": 26,
   "metadata": {},
   "outputs": [
    {
     "name": "stdout",
     "output_type": "stream",
     "text": [
      "POS Tags: [('Text', 'NN'), ('analytics', 'NNS'), ('is', 'VBZ'), ('the', 'DT'), ('process', 'NN'), ('of', 'IN'), ('deriving', 'VBG'), ('useful', 'JJ'), ('insights', 'NNS'), ('from', 'IN'), ('text', 'NN'), ('data', 'NNS'), ('.', '.'), ('It', 'PRP'), ('involves', 'VBZ'), ('techniques', 'NNS'), ('like', 'IN'), ('Tokenization', 'NNP'), (',', ','), ('POS', 'NNP'), ('Tagging', 'NNP'), (',', ','), ('Stop', 'NNP'), ('Words', 'NNP'), ('Removal', 'NNP'), (',', ','), ('Stemming', 'NNP'), (',', ','), ('and', 'CC'), ('Lemmatization', 'NNP'), ('.', '.')]\n"
     ]
    }
   ],
   "source": [
    "pos_tags = pos_tag(words)\n",
    "print(\"POS Tags:\", pos_tags)\n"
   ]
  },
  {
   "cell_type": "code",
   "execution_count": 27,
   "metadata": {},
   "outputs": [
    {
     "name": "stdout",
     "output_type": "stream",
     "text": [
      "Tokens after Stopwords Removal: ['Text', 'analytics', 'process', 'deriving', 'useful', 'insights', 'text', 'data', 'involves', 'techniques', 'like', 'Tokenization', 'POS', 'Tagging', 'Stop', 'Words', 'Removal', 'Stemming', 'Lemmatization']\n"
     ]
    }
   ],
   "source": [
    "stop_words = set(stopwords.words('english'))\n",
    "filtered_tokens = [word for word in words if word.lower() not in stop_words and word not in string.punctuation]\n",
    "print(\"Tokens after Stopwords Removal:\", filtered_tokens)"
   ]
  },
  {
   "cell_type": "code",
   "execution_count": 28,
   "metadata": {},
   "outputs": [
    {
     "name": "stdout",
     "output_type": "stream",
     "text": [
      "Stemmed Words: ['text', 'analyt', 'process', 'deriv', 'use', 'insight', 'text', 'data', 'involv', 'techniqu', 'like', 'token', 'po', 'tag', 'stop', 'word', 'remov', 'stem', 'lemmat']\n"
     ]
    }
   ],
   "source": [
    "stemmer = PorterStemmer()\n",
    "stemmed_words = [stemmer.stem(word) for word in filtered_tokens]\n",
    "print(\"Stemmed Words:\", stemmed_words)\n"
   ]
  },
  {
   "cell_type": "code",
   "execution_count": 29,
   "metadata": {},
   "outputs": [
    {
     "name": "stdout",
     "output_type": "stream",
     "text": [
      "Lemmatized Words: ['Text', 'analytics', 'process', 'deriving', 'useful', 'insight', 'text', 'data', 'involves', 'technique', 'like', 'Tokenization', 'POS', 'Tagging', 'Stop', 'Words', 'Removal', 'Stemming', 'Lemmatization']\n"
     ]
    }
   ],
   "source": [
    "lemmatizer = WordNetLemmatizer()\n",
    "lemmatized_words = [lemmatizer.lemmatize(word) for word in filtered_tokens]\n",
    "print(\"Lemmatized Words:\", lemmatized_words)\n"
   ]
  },
  {
   "cell_type": "code",
   "execution_count": 31,
   "metadata": {},
   "outputs": [
    {
     "name": "stdout",
     "output_type": "stream",
     "text": [
      "\n",
      "TF-IDF Matrix:\n",
      "   analytics      and     data  deriving     from  insights  involves  \\\n",
      "0    0.19245  0.19245  0.19245   0.19245  0.19245   0.19245   0.19245   \n",
      "\n",
      "        is       it  lemmatization  ...  removal  stemming     stop  tagging  \\\n",
      "0  0.19245  0.19245        0.19245  ...  0.19245   0.19245  0.19245  0.19245   \n",
      "\n",
      "   techniques    text      the  tokenization   useful    words  \n",
      "0     0.19245  0.3849  0.19245       0.19245  0.19245  0.19245  \n",
      "\n",
      "[1 rows x 24 columns]\n"
     ]
    }
   ],
   "source": [
    "vectorizer = TfidfVectorizer()\n",
    "new_sentence=[' '.join(sentence)]\n",
    "tfidf_matrix = vectorizer.fit_transform(new_sentence)\n",
    "df_tfidf = pd.DataFrame(tfidf_matrix.toarray(), columns=vectorizer.get_feature_names_out())\n",
    "print(\"\\nTF-IDF Matrix:\")\n",
    "print(df_tfidf)"
   ]
  }
 ],
 "metadata": {
  "kernelspec": {
   "display_name": "Python 3",
   "language": "python",
   "name": "python3"
  },
  "language_info": {
   "codemirror_mode": {
    "name": "ipython",
    "version": 3
   },
   "file_extension": ".py",
   "mimetype": "text/x-python",
   "name": "python",
   "nbconvert_exporter": "python",
   "pygments_lexer": "ipython3",
   "version": "3.11.6"
  }
 },
 "nbformat": 4,
 "nbformat_minor": 2
}
