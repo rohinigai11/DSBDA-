{
 "cells": [
  {
   "cell_type": "code",
   "execution_count": 24,
   "metadata": {},
   "outputs": [
    {
     "name": "stdout",
     "output_type": "stream",
     "text": [
      "   movieId                               title  \\\n",
      "0        1                    Toy Story (1995)   \n",
      "1        2                      Jumanji (1995)   \n",
      "2        3             Grumpier Old Men (1995)   \n",
      "3        4            Waiting to Exhale (1995)   \n",
      "4        5  Father of the Bride Part II (1995)   \n",
      "\n",
      "                                        genres  \n",
      "0  Adventure|Animation|Children|Comedy|Fantasy  \n",
      "1                   Adventure|Children|Fantasy  \n",
      "2                               Comedy|Romance  \n",
      "3                         Comedy|Drama|Romance  \n",
      "4                                       Comedy  \n",
      "Index(['movieId', 'title', 'genres'], dtype='object')\n"
     ]
    }
   ],
   "source": [
    "import pandas as pd\n",
    "from sklearn.feature_extraction.text import TfidfVectorizer\n",
    "from sklearn.metrics.pairwise import cosine_similarity\n",
    "import numpy as np\n",
    "# Load dataset\n",
    "url = \"movies.csv\"\n",
    "df = pd.read_csv(url)\n",
    "\n",
    "# Display first few rows\n",
    "print(df.head())\n",
    "\n",
    "# Check columns available\n",
    "print(df.columns)\n"
   ]
  },
  {
   "cell_type": "code",
   "execution_count": 25,
   "metadata": {},
   "outputs": [
    {
     "name": "stderr",
     "output_type": "stream",
     "text": [
      "C:\\Users\\nkolh\\AppData\\Local\\Temp\\ipykernel_1776\\1441340867.py:5: FutureWarning: A value is trying to be set on a copy of a DataFrame or Series through chained assignment using an inplace method.\n",
      "The behavior will change in pandas 3.0. This inplace method will never work because the intermediate object on which we are setting values always behaves as a copy.\n",
      "\n",
      "For example, when doing 'df[col].method(value, inplace=True)', try using 'df.method({col: value}, inplace=True)' or df[col] = df[col].method(value) instead, to perform the operation inplace on the original object.\n",
      "\n",
      "\n",
      "  df[\"genres\"].fillna(\"\", inplace=True)\n"
     ]
    }
   ],
   "source": [
    "# Normalize column names to lowercase\n",
    "df.columns = df.columns.str.strip().str.lower()\n",
    "\n",
    "# Fill missing values in 'genres'\n",
    "df[\"genres\"].fillna(\"\", inplace=True)\n"
   ]
  },
  {
   "cell_type": "code",
   "execution_count": 26,
   "metadata": {},
   "outputs": [],
   "source": [
    "vectorizer = TfidfVectorizer(stop_words=\"english\")\n",
    "genre_matrix = vectorizer.fit_transform(df[\"genres\"])\n"
   ]
  },
  {
   "cell_type": "code",
   "execution_count": 16,
   "metadata": {},
   "outputs": [
    {
     "name": "stdout",
     "output_type": "stream",
     "text": [
      "Genre feature matrix shape: (62423, 23)\n"
     ]
    }
   ],
   "source": [
    "from sklearn.feature_extraction.text import TfidfVectorizer\n",
    "\n",
    "# Convert genres to TF-IDF features\n",
    "vectorizer = TfidfVectorizer(stop_words=\"english\")\n",
    "genre_matrix = vectorizer.fit_transform(df[\"genres\"])\n",
    "\n",
    "print(\"Genre feature matrix shape:\", genre_matrix.shape)\n"
   ]
  },
  {
   "cell_type": "code",
   "execution_count": 28,
   "metadata": {},
   "outputs": [],
   "source": [
    "def recommend_movies(movie_title, num_recommendations=5):\n",
    "    movie_title = movie_title.lower()\n",
    "\n",
    "    # Find the movie index\n",
    "    movie_index = df[df[\"title\"].str.lower() == movie_title].index\n",
    "\n",
    "    if len(movie_index) == 0:\n",
    "        return \"Movie not found! Please try another title.\"\n",
    "\n",
    "    movie_index = movie_index[0]\n",
    "\n",
    "    # Compute similarity only for the given movie\n",
    "    movie_vector = genre_matrix[movie_index]  # Get the vector for the given movie\n",
    "    similarity_scores = cosine_similarity(movie_vector, genre_matrix)[0]  # Compute similarity for only this movie\n",
    "\n",
    "    # Sort by highest similarity (excluding itself)\n",
    "    sorted_indices = np.argsort(similarity_scores)[::-1][1:num_recommendations+1]\n",
    "\n",
    "    # Get recommended movie titles\n",
    "    recommended_movies = df.iloc[sorted_indices][\"title\"].tolist()\n",
    "\n",
    "    return recommended_movies"
   ]
  },
  {
   "cell_type": "code",
   "execution_count": 29,
   "metadata": {},
   "outputs": [
    {
     "name": "stdout",
     "output_type": "stream",
     "text": [
      "Movies similar to 'The Dark Knight':\n",
      "1. M\n",
      "2. o\n",
      "3. v\n",
      "4. i\n",
      "5. e\n",
      "6.  \n",
      "7. n\n",
      "8. o\n",
      "9. t\n",
      "10.  \n",
      "11. f\n",
      "12. o\n",
      "13. u\n",
      "14. n\n",
      "15. d\n",
      "16. !\n",
      "17.  \n",
      "18. P\n",
      "19. l\n",
      "20. e\n",
      "21. a\n",
      "22. s\n",
      "23. e\n",
      "24.  \n",
      "25. t\n",
      "26. r\n",
      "27. y\n",
      "28.  \n",
      "29. a\n",
      "30. n\n",
      "31. o\n",
      "32. t\n",
      "33. h\n",
      "34. e\n",
      "35. r\n",
      "36.  \n",
      "37. t\n",
      "38. i\n",
      "39. t\n",
      "40. l\n",
      "41. e\n",
      "42. .\n"
     ]
    }
   ],
   "source": [
    "movie_name = \"The Dark Knight\"\n",
    "recommended_movies = recommend_movies(movie_name)\n",
    "\n",
    "print(f\"Movies similar to '{movie_name}':\")\n",
    "for idx, movie in enumerate(recommended_movies, start=1):\n",
    "    print(f\"{idx}. {movie}\")"
   ]
  }
 ],
 "metadata": {
  "kernelspec": {
   "display_name": "Python 3",
   "language": "python",
   "name": "python3"
  },
  "language_info": {
   "codemirror_mode": {
    "name": "ipython",
    "version": 3
   },
   "file_extension": ".py",
   "mimetype": "text/x-python",
   "name": "python",
   "nbconvert_exporter": "python",
   "pygments_lexer": "ipython3",
   "version": "3.11.6"
  }
 },
 "nbformat": 4,
 "nbformat_minor": 2
}
